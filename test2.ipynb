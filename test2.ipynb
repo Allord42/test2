{
 "cells": [
  {
   "cell_type": "code",
   "execution_count": 2,
   "id": "6e3798f1",
   "metadata": {},
   "outputs": [
    {
     "name": "stdout",
     "output_type": "stream",
     "text": [
      "Git test\n"
     ]
    }
   ],
   "source": [
    "print('Git test')"
   ]
  },
  {
   "cell_type": "code",
   "execution_count": 6,
   "id": "28f4d75a",
   "metadata": {},
   "outputs": [
    {
     "data": {
      "text/plain": [
       "range(0, 10)"
      ]
     },
     "execution_count": 6,
     "metadata": {},
     "output_type": "execute_result"
    }
   ],
   "source": [
    "k = range(10)"
   ]
  },
  {
   "cell_type": "markdown",
   "id": "11e1b2b4",
   "metadata": {},
   "source": [
    "Проверочка :)"
   ]
  },
  {
   "cell_type": "markdown",
   "id": "306f4ac3",
   "metadata": {},
   "source": [
    "## :)))"
   ]
  }
 ],
 "metadata": {
  "kernelspec": {
   "display_name": "Python 3 (ipykernel)",
   "language": "python",
   "name": "python3"
  },
  "language_info": {
   "codemirror_mode": {
    "name": "ipython",
    "version": 3
   },
   "file_extension": ".py",
   "mimetype": "text/x-python",
   "name": "python",
   "nbconvert_exporter": "python",
   "pygments_lexer": "ipython3",
   "version": "3.9.16"
  }
 },
 "nbformat": 4,
 "nbformat_minor": 5
}
